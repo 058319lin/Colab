{
  "nbformat": 4,
  "nbformat_minor": 0,
  "metadata": {
    "colab": {
      "provenance": [],
      "authorship_tag": "ABX9TyMOew2Cg7dbfw4615y/7PaU"
    },
    "kernelspec": {
      "name": "python3",
      "display_name": "Python 3"
    },
    "language_info": {
      "name": "python"
    }
  },
  "cells": [
    {
      "cell_type": "code",
      "source": [
        "from google.colab import drive\n",
        "drive.mount('/content/drive')"
      ],
      "metadata": {
        "colab": {
          "base_uri": "https://localhost:8080/"
        },
        "id": "pomV3jU43YgU",
        "outputId": "08bf86b9-7271-444a-c636-effc57c378b3"
      },
      "execution_count": 1,
      "outputs": [
        {
          "output_type": "stream",
          "name": "stdout",
          "text": [
            "Mounted at /content/drive\n"
          ]
        }
      ]
    },
    {
      "cell_type": "code",
      "source": [
        "import seaborn as sns\n",
        "import pandas as pd \n",
        "import numpy as np \n",
        "import matplotlib.pyplot as plt\n",
        "from sklearn.pipeline import Pipeline, FeatureUnion\n",
        "from sklearn.compose import ColumnTransformer\n",
        "from sklearn.decomposition import PCA\n",
        "from sklearn.preprocessing import StandardScaler\n",
        "from imblearn.over_sampling import SMOTE, SMOTENC\n",
        "from imblearn.under_sampling import RandomUnderSampler\n",
        "from imblearn.pipeline import make_pipeline\n",
        "from sklearn.model_selection import train_test_split\n",
        "from sklearn.preprocessing import OneHotEncoder\n",
        "import lightgbm as lgb\n",
        "from sklearn.metrics import accuracy_score, balanced_accuracy_score, classification_report\n",
        "from sklearn.metrics import roc_curve\n",
        "from sklearn.metrics import RocCurveDisplay \n",
        "from sklearn.model_selection import GridSearchCV\n",
        "import time\n",
        "\n"
      ],
      "metadata": {
        "id": "-ePx2gTvVDEA"
      },
      "execution_count": 8,
      "outputs": []
    },
    {
      "cell_type": "code",
      "source": [
        "\n",
        "df = pd.read_csv('/content/drive/My Drive/Colab Notebooks/Base.csv', ',') \n",
        "\n",
        "# !cat /content/drive/My\\ Drive/foo.txt"
      ],
      "metadata": {
        "id": "KwFUPyg13gcu",
        "colab": {
          "base_uri": "https://localhost:8080/"
        },
        "outputId": "cc355329-4e09-4ea7-c2e0-2387b17fdb53"
      },
      "execution_count": 3,
      "outputs": [
        {
          "output_type": "stream",
          "name": "stderr",
          "text": [
            "/usr/local/lib/python3.8/dist-packages/IPython/core/interactiveshell.py:3326: FutureWarning: In a future version of pandas all arguments of read_csv except for the argument 'filepath_or_buffer' will be keyword-only\n",
            "  exec(code_obj, self.user_global_ns, self.user_ns)\n"
          ]
        }
      ]
    },
    {
      "cell_type": "code",
      "source": [
        "#create list of categorical columns\n",
        "cat_cols = df.columns[df.dtypes == 'object']\n",
        "numeric_cols = df.columns[df.dtypes != 'object'].tolist()\n",
        "numeric_cols.remove('fraud_bool')\n",
        "numeric_cols.remove('income')\n"
      ],
      "metadata": {
        "id": "9Kk87OPNsVTw"
      },
      "execution_count": 4,
      "outputs": []
    },
    {
      "cell_type": "code",
      "source": [
        "#split data early on \n",
        "X_train, X_test, y_train, y_test = train_test_split(df.iloc[:,1:], df.iloc[:,0], test_size=0.3, random_state=0)"
      ],
      "metadata": {
        "id": "65B_yuUlJ0Ze"
      },
      "execution_count": 5,
      "outputs": []
    },
    {
      "cell_type": "markdown",
      "source": [
        "Preprocess Training Set"
      ],
      "metadata": {
        "id": "oANZ4TngJvWJ"
      }
    },
    {
      "cell_type": "code",
      "source": [
        "# upsample minority and downsample majority\n",
        "seed = 0 \n",
        "cat_map = (X_train.dtypes=='object').tolist() #boolean mask of categorical columns\n",
        "\n",
        "up = SMOTENC(cat_map[1:], sampling_strategy = 0.3, random_state=seed)\n",
        "down = RandomUnderSampler(sampling_strategy=(0.3), random_state=seed) \n",
        "correct_balance = make_pipeline(up, down) #make_pipeline(up)\n",
        "X_train_bal, y_train_bal = correct_balance.fit_resample(X_train.iloc[:,1:], y_train)\n",
        "\n",
        "# encode - turn into pipeline!!!\n",
        "onehotenc = OneHotEncoder(handle_unknown='ignore')\n",
        "df_cat = X_train_bal[cat_cols]\n",
        "matrix_cat_oh = onehotenc.fit_transform(df_cat)\n",
        "df_cat_oh = pd.DataFrame(matrix_cat_oh.toarray())\n",
        "X_train_encoded = pd.concat([X_train_bal[numeric_cols], df_cat_oh], axis=1)\n",
        "\n",
        "# create final dataset \n",
        "df_train_balanced = pd.concat([y_train_bal, X_train_encoded], axis=1)\n"
      ],
      "metadata": {
        "id": "a_1hFHCz6xav"
      },
      "execution_count": 11,
      "outputs": []
    },
    {
      "cell_type": "code",
      "source": [
        "X_train_bal[numeric_cols].shape"
      ],
      "metadata": {
        "colab": {
          "base_uri": "https://localhost:8080/"
        },
        "id": "IdCd_mPo0aPs",
        "outputId": "b523f9db-8378-4837-be6e-e34989ac6a0e"
      },
      "execution_count": null,
      "outputs": [
        {
          "output_type": "execute_result",
          "data": {
            "text/plain": [
              "(899920, 25)"
            ]
          },
          "metadata": {},
          "execution_count": 62
        }
      ]
    },
    {
      "cell_type": "code",
      "source": [
        "X_train_bal_check.head()\n"
      ],
      "metadata": {
        "colab": {
          "base_uri": "https://localhost:8080/",
          "height": 300
        },
        "id": "zmvgVkZGgLQX",
        "outputId": "1177f5bf-43d0-4016-a74f-f2f667337caf"
      },
      "execution_count": 24,
      "outputs": [
        {
          "output_type": "execute_result",
          "data": {
            "text/plain": [
              "   name_email_similarity  prev_address_months_count  \\\n",
              "0               0.177561                         29   \n",
              "1               0.709171                         -1   \n",
              "2               0.930330                         31   \n",
              "3               0.838423                         54   \n",
              "4               0.545024                         -1   \n",
              "\n",
              "   current_address_months_count  customer_age  days_since_request  \\\n",
              "0                            15            20            0.017619   \n",
              "1                            42            30            0.019877   \n",
              "2                             3            30            0.027754   \n",
              "3                             8            40            0.023480   \n",
              "4                           195            50            0.012070   \n",
              "\n",
              "   intended_balcon_amount payment_type  zip_count_4w  velocity_6h  \\\n",
              "0               49.997895           AA          1091  9393.917154   \n",
              "1               17.660883           AA          1316  7208.680376   \n",
              "2               -1.162913           AD          1190  6832.576133   \n",
              "3               -1.389747           AB          1201  1260.853428   \n",
              "4               -0.424996           AB           938  3450.717671   \n",
              "\n",
              "   velocity_24h  ...  has_other_cards  proposed_credit_limit  foreign_request  \\\n",
              "0   7025.164430  ...                0                  500.0                0   \n",
              "1   4213.104689  ...                1                 1000.0                0   \n",
              "2   5133.553364  ...                0                  200.0                0   \n",
              "3   5063.916125  ...                0                 1000.0                0   \n",
              "4   3184.971427  ...                0                  500.0                0   \n",
              "\n",
              "     source  session_length_in_minutes  device_os keep_alive_session  \\\n",
              "0  INTERNET                   4.402454      other                  1   \n",
              "1  INTERNET                   1.199572  macintosh                  1   \n",
              "2  INTERNET                   1.402220      linux                  1   \n",
              "3  INTERNET                   4.554860      linux                  0   \n",
              "4  INTERNET                   4.115993      other                  1   \n",
              "\n",
              "   device_distinct_emails_8w  device_fraud_count  month  \n",
              "0                          1                   0      0  \n",
              "1                          1                   0      3  \n",
              "2                          1                   0      7  \n",
              "3                          1                   0      3  \n",
              "4                          1                   0      7  \n",
              "\n",
              "[5 rows x 30 columns]"
            ],
            "text/html": [
              "\n",
              "  <div id=\"df-ed8ba6e8-64e1-4b14-b973-56c86ee81f74\">\n",
              "    <div class=\"colab-df-container\">\n",
              "      <div>\n",
              "<style scoped>\n",
              "    .dataframe tbody tr th:only-of-type {\n",
              "        vertical-align: middle;\n",
              "    }\n",
              "\n",
              "    .dataframe tbody tr th {\n",
              "        vertical-align: top;\n",
              "    }\n",
              "\n",
              "    .dataframe thead th {\n",
              "        text-align: right;\n",
              "    }\n",
              "</style>\n",
              "<table border=\"1\" class=\"dataframe\">\n",
              "  <thead>\n",
              "    <tr style=\"text-align: right;\">\n",
              "      <th></th>\n",
              "      <th>name_email_similarity</th>\n",
              "      <th>prev_address_months_count</th>\n",
              "      <th>current_address_months_count</th>\n",
              "      <th>customer_age</th>\n",
              "      <th>days_since_request</th>\n",
              "      <th>intended_balcon_amount</th>\n",
              "      <th>payment_type</th>\n",
              "      <th>zip_count_4w</th>\n",
              "      <th>velocity_6h</th>\n",
              "      <th>velocity_24h</th>\n",
              "      <th>...</th>\n",
              "      <th>has_other_cards</th>\n",
              "      <th>proposed_credit_limit</th>\n",
              "      <th>foreign_request</th>\n",
              "      <th>source</th>\n",
              "      <th>session_length_in_minutes</th>\n",
              "      <th>device_os</th>\n",
              "      <th>keep_alive_session</th>\n",
              "      <th>device_distinct_emails_8w</th>\n",
              "      <th>device_fraud_count</th>\n",
              "      <th>month</th>\n",
              "    </tr>\n",
              "  </thead>\n",
              "  <tbody>\n",
              "    <tr>\n",
              "      <th>0</th>\n",
              "      <td>0.177561</td>\n",
              "      <td>29</td>\n",
              "      <td>15</td>\n",
              "      <td>20</td>\n",
              "      <td>0.017619</td>\n",
              "      <td>49.997895</td>\n",
              "      <td>AA</td>\n",
              "      <td>1091</td>\n",
              "      <td>9393.917154</td>\n",
              "      <td>7025.164430</td>\n",
              "      <td>...</td>\n",
              "      <td>0</td>\n",
              "      <td>500.0</td>\n",
              "      <td>0</td>\n",
              "      <td>INTERNET</td>\n",
              "      <td>4.402454</td>\n",
              "      <td>other</td>\n",
              "      <td>1</td>\n",
              "      <td>1</td>\n",
              "      <td>0</td>\n",
              "      <td>0</td>\n",
              "    </tr>\n",
              "    <tr>\n",
              "      <th>1</th>\n",
              "      <td>0.709171</td>\n",
              "      <td>-1</td>\n",
              "      <td>42</td>\n",
              "      <td>30</td>\n",
              "      <td>0.019877</td>\n",
              "      <td>17.660883</td>\n",
              "      <td>AA</td>\n",
              "      <td>1316</td>\n",
              "      <td>7208.680376</td>\n",
              "      <td>4213.104689</td>\n",
              "      <td>...</td>\n",
              "      <td>1</td>\n",
              "      <td>1000.0</td>\n",
              "      <td>0</td>\n",
              "      <td>INTERNET</td>\n",
              "      <td>1.199572</td>\n",
              "      <td>macintosh</td>\n",
              "      <td>1</td>\n",
              "      <td>1</td>\n",
              "      <td>0</td>\n",
              "      <td>3</td>\n",
              "    </tr>\n",
              "    <tr>\n",
              "      <th>2</th>\n",
              "      <td>0.930330</td>\n",
              "      <td>31</td>\n",
              "      <td>3</td>\n",
              "      <td>30</td>\n",
              "      <td>0.027754</td>\n",
              "      <td>-1.162913</td>\n",
              "      <td>AD</td>\n",
              "      <td>1190</td>\n",
              "      <td>6832.576133</td>\n",
              "      <td>5133.553364</td>\n",
              "      <td>...</td>\n",
              "      <td>0</td>\n",
              "      <td>200.0</td>\n",
              "      <td>0</td>\n",
              "      <td>INTERNET</td>\n",
              "      <td>1.402220</td>\n",
              "      <td>linux</td>\n",
              "      <td>1</td>\n",
              "      <td>1</td>\n",
              "      <td>0</td>\n",
              "      <td>7</td>\n",
              "    </tr>\n",
              "    <tr>\n",
              "      <th>3</th>\n",
              "      <td>0.838423</td>\n",
              "      <td>54</td>\n",
              "      <td>8</td>\n",
              "      <td>40</td>\n",
              "      <td>0.023480</td>\n",
              "      <td>-1.389747</td>\n",
              "      <td>AB</td>\n",
              "      <td>1201</td>\n",
              "      <td>1260.853428</td>\n",
              "      <td>5063.916125</td>\n",
              "      <td>...</td>\n",
              "      <td>0</td>\n",
              "      <td>1000.0</td>\n",
              "      <td>0</td>\n",
              "      <td>INTERNET</td>\n",
              "      <td>4.554860</td>\n",
              "      <td>linux</td>\n",
              "      <td>0</td>\n",
              "      <td>1</td>\n",
              "      <td>0</td>\n",
              "      <td>3</td>\n",
              "    </tr>\n",
              "    <tr>\n",
              "      <th>4</th>\n",
              "      <td>0.545024</td>\n",
              "      <td>-1</td>\n",
              "      <td>195</td>\n",
              "      <td>50</td>\n",
              "      <td>0.012070</td>\n",
              "      <td>-0.424996</td>\n",
              "      <td>AB</td>\n",
              "      <td>938</td>\n",
              "      <td>3450.717671</td>\n",
              "      <td>3184.971427</td>\n",
              "      <td>...</td>\n",
              "      <td>0</td>\n",
              "      <td>500.0</td>\n",
              "      <td>0</td>\n",
              "      <td>INTERNET</td>\n",
              "      <td>4.115993</td>\n",
              "      <td>other</td>\n",
              "      <td>1</td>\n",
              "      <td>1</td>\n",
              "      <td>0</td>\n",
              "      <td>7</td>\n",
              "    </tr>\n",
              "  </tbody>\n",
              "</table>\n",
              "<p>5 rows × 30 columns</p>\n",
              "</div>\n",
              "      <button class=\"colab-df-convert\" onclick=\"convertToInteractive('df-ed8ba6e8-64e1-4b14-b973-56c86ee81f74')\"\n",
              "              title=\"Convert this dataframe to an interactive table.\"\n",
              "              style=\"display:none;\">\n",
              "        \n",
              "  <svg xmlns=\"http://www.w3.org/2000/svg\" height=\"24px\"viewBox=\"0 0 24 24\"\n",
              "       width=\"24px\">\n",
              "    <path d=\"M0 0h24v24H0V0z\" fill=\"none\"/>\n",
              "    <path d=\"M18.56 5.44l.94 2.06.94-2.06 2.06-.94-2.06-.94-.94-2.06-.94 2.06-2.06.94zm-11 1L8.5 8.5l.94-2.06 2.06-.94-2.06-.94L8.5 2.5l-.94 2.06-2.06.94zm10 10l.94 2.06.94-2.06 2.06-.94-2.06-.94-.94-2.06-.94 2.06-2.06.94z\"/><path d=\"M17.41 7.96l-1.37-1.37c-.4-.4-.92-.59-1.43-.59-.52 0-1.04.2-1.43.59L10.3 9.45l-7.72 7.72c-.78.78-.78 2.05 0 2.83L4 21.41c.39.39.9.59 1.41.59.51 0 1.02-.2 1.41-.59l7.78-7.78 2.81-2.81c.8-.78.8-2.07 0-2.86zM5.41 20L4 18.59l7.72-7.72 1.47 1.35L5.41 20z\"/>\n",
              "  </svg>\n",
              "      </button>\n",
              "      \n",
              "  <style>\n",
              "    .colab-df-container {\n",
              "      display:flex;\n",
              "      flex-wrap:wrap;\n",
              "      gap: 12px;\n",
              "    }\n",
              "\n",
              "    .colab-df-convert {\n",
              "      background-color: #E8F0FE;\n",
              "      border: none;\n",
              "      border-radius: 50%;\n",
              "      cursor: pointer;\n",
              "      display: none;\n",
              "      fill: #1967D2;\n",
              "      height: 32px;\n",
              "      padding: 0 0 0 0;\n",
              "      width: 32px;\n",
              "    }\n",
              "\n",
              "    .colab-df-convert:hover {\n",
              "      background-color: #E2EBFA;\n",
              "      box-shadow: 0px 1px 2px rgba(60, 64, 67, 0.3), 0px 1px 3px 1px rgba(60, 64, 67, 0.15);\n",
              "      fill: #174EA6;\n",
              "    }\n",
              "\n",
              "    [theme=dark] .colab-df-convert {\n",
              "      background-color: #3B4455;\n",
              "      fill: #D2E3FC;\n",
              "    }\n",
              "\n",
              "    [theme=dark] .colab-df-convert:hover {\n",
              "      background-color: #434B5C;\n",
              "      box-shadow: 0px 1px 3px 1px rgba(0, 0, 0, 0.15);\n",
              "      filter: drop-shadow(0px 1px 2px rgba(0, 0, 0, 0.3));\n",
              "      fill: #FFFFFF;\n",
              "    }\n",
              "  </style>\n",
              "\n",
              "      <script>\n",
              "        const buttonEl =\n",
              "          document.querySelector('#df-ed8ba6e8-64e1-4b14-b973-56c86ee81f74 button.colab-df-convert');\n",
              "        buttonEl.style.display =\n",
              "          google.colab.kernel.accessAllowed ? 'block' : 'none';\n",
              "\n",
              "        async function convertToInteractive(key) {\n",
              "          const element = document.querySelector('#df-ed8ba6e8-64e1-4b14-b973-56c86ee81f74');\n",
              "          const dataTable =\n",
              "            await google.colab.kernel.invokeFunction('convertToInteractive',\n",
              "                                                     [key], {});\n",
              "          if (!dataTable) return;\n",
              "\n",
              "          const docLinkHtml = 'Like what you see? Visit the ' +\n",
              "            '<a target=\"_blank\" href=https://colab.research.google.com/notebooks/data_table.ipynb>data table notebook</a>'\n",
              "            + ' to learn more about interactive tables.';\n",
              "          element.innerHTML = '';\n",
              "          dataTable['output_type'] = 'display_data';\n",
              "          await google.colab.output.renderOutput(dataTable, element);\n",
              "          const docLink = document.createElement('div');\n",
              "          docLink.innerHTML = docLinkHtml;\n",
              "          element.appendChild(docLink);\n",
              "        }\n",
              "      </script>\n",
              "    </div>\n",
              "  </div>\n",
              "  "
            ]
          },
          "metadata": {},
          "execution_count": 24
        }
      ]
    },
    {
      "cell_type": "code",
      "source": [
        "# check balance\n",
        "df_train_balanced.groupby('fraud_bool')['fraud_bool'].count()/df_train_balanced.shape[0]"
      ],
      "metadata": {
        "colab": {
          "base_uri": "https://localhost:8080/"
        },
        "id": "FGc92A4enCJJ",
        "outputId": "462512ce-93f5-495f-c707-1a4bc3b19793"
      },
      "execution_count": null,
      "outputs": [
        {
          "output_type": "execute_result",
          "data": {
            "text/plain": [
              "fraud_bool\n",
              "0    0.769231\n",
              "1    0.230769\n",
              "Name: fraud_bool, dtype: float64"
            ]
          },
          "metadata": {},
          "execution_count": 63
        }
      ]
    },
    {
      "cell_type": "code",
      "source": [
        "# preprocess test data \n",
        "df_test_cat = X_test[cat_cols]\n",
        "df_test_cat_encoded = pd.DataFrame(onehotenc.transform(df_test_cat).toarray())\n",
        "X_test_numeric = X_test[numeric_cols].reset_index(drop=True)\n",
        "X_test_encoded = pd.concat([X_test_numeric, df_test_cat_encoded], axis=1)\n"
      ],
      "metadata": {
        "id": "HjhsGF2n5v37"
      },
      "execution_count": null,
      "outputs": []
    },
    {
      "cell_type": "code",
      "source": [
        "#create model\n",
        "clf = lgb.LGBMClassifier(objective=\"binary\")\n",
        "clf.fit(X_train_encoded, y_train_bal)\n",
        "y_pred_train = clf.predict(X_train_encoded)\n",
        "\n",
        "y_test_pred = clf.predict(X_test_encoded)\n"
      ],
      "metadata": {
        "id": "kexqNHEw8nGP"
      },
      "execution_count": null,
      "outputs": []
    },
    {
      "cell_type": "code",
      "source": [
        "#turn into function\n",
        "print(accuracy_score(y_pred_train, y_train_bal))\n",
        "print(balanced_accuracy_score(y_pred_train, y_train_bal))\n",
        "print(classification_report(y_pred_train, y_train_bal))\n",
        "\n",
        "all_zeros = np.zeros(len(y_train_bal), dtype='int')\n",
        "print(accuracy_score(all_zeros, y_train_bal))\n",
        "print(balanced_accuracy_score(all_zeros, y_train_bal))\n",
        "print(classification_report(all_zeros, y_train_bal))\n",
        "\n",
        "print(accuracy_score(y_test_pred, y_test))\n",
        "print(balanced_accuracy_score(y_test_pred, y_test))\n",
        "print(classification_report(y_test_pred, y_test))\n"
      ],
      "metadata": {
        "colab": {
          "base_uri": "https://localhost:8080/"
        },
        "id": "bTExd4_1AFCR",
        "outputId": "39b3c24f-bba1-4f1c-eb22-17a4e0c3b13d"
      },
      "execution_count": null,
      "outputs": [
        {
          "output_type": "stream",
          "name": "stdout",
          "text": [
            "0.976564583518535\n",
            "0.9750139698875082\n",
            "              precision    recall  f1-score   support\n",
            "\n",
            "           0       0.99      0.98      0.98    702372\n",
            "           1       0.92      0.97      0.95    197548\n",
            "\n",
            "    accuracy                           0.98    899920\n",
            "   macro avg       0.96      0.98      0.97    899920\n",
            "weighted avg       0.98      0.98      0.98    899920\n",
            "\n",
            "0.7692305982754023\n"
          ]
        },
        {
          "output_type": "stream",
          "name": "stderr",
          "text": [
            "/usr/local/lib/python3.8/dist-packages/sklearn/metrics/_classification.py:1987: UserWarning: y_pred contains classes not in y_true\n",
            "  warnings.warn(\"y_pred contains classes not in y_true\")\n"
          ]
        },
        {
          "output_type": "stream",
          "name": "stdout",
          "text": [
            "0.7692305982754023\n"
          ]
        },
        {
          "output_type": "stream",
          "name": "stderr",
          "text": [
            "/usr/local/lib/python3.8/dist-packages/sklearn/metrics/_classification.py:1318: UndefinedMetricWarning: Recall and F-score are ill-defined and being set to 0.0 in labels with no true samples. Use `zero_division` parameter to control this behavior.\n",
            "  _warn_prf(average, modifier, msg_start, len(result))\n",
            "/usr/local/lib/python3.8/dist-packages/sklearn/metrics/_classification.py:1318: UndefinedMetricWarning: Recall and F-score are ill-defined and being set to 0.0 in labels with no true samples. Use `zero_division` parameter to control this behavior.\n",
            "  _warn_prf(average, modifier, msg_start, len(result))\n",
            "/usr/local/lib/python3.8/dist-packages/sklearn/metrics/_classification.py:1318: UndefinedMetricWarning: Recall and F-score are ill-defined and being set to 0.0 in labels with no true samples. Use `zero_division` parameter to control this behavior.\n",
            "  _warn_prf(average, modifier, msg_start, len(result))\n"
          ]
        },
        {
          "output_type": "stream",
          "name": "stdout",
          "text": [
            "              precision    recall  f1-score   support\n",
            "\n",
            "           0       1.00      0.77      0.87    899920\n",
            "           1       0.00      0.00      0.00         0\n",
            "\n",
            "    accuracy                           0.77    899920\n",
            "   macro avg       0.50      0.38      0.43    899920\n",
            "weighted avg       1.00      0.77      0.87    899920\n",
            "\n",
            "0.9827333333333333\n",
            "0.5808974307622856\n",
            "              precision    recall  f1-score   support\n",
            "\n",
            "           0       0.99      0.99      0.99    297108\n",
            "           1       0.15      0.17      0.16      2892\n",
            "\n",
            "    accuracy                           0.98    300000\n",
            "   macro avg       0.57      0.58      0.58    300000\n",
            "weighted avg       0.98      0.98      0.98    300000\n",
            "\n"
          ]
        }
      ]
    },
    {
      "cell_type": "code",
      "source": [
        "fpr, tpr, thresholds = roc_curve(y_train_bal, y_pred_train)\n",
        "RocCurveDisplay(fpr=fpr, tpr=tpr, estimator_name='Training Eval').plot()"
      ],
      "metadata": {
        "colab": {
          "base_uri": "https://localhost:8080/",
          "height": 297
        },
        "id": "tRgLLJ21v5Qp",
        "outputId": "ba94b405-595d-4818-d043-745e0b1b41f7"
      },
      "execution_count": null,
      "outputs": [
        {
          "output_type": "execute_result",
          "data": {
            "text/plain": [
              "<sklearn.metrics._plot.roc_curve.RocCurveDisplay at 0x7f9f3ff77370>"
            ]
          },
          "metadata": {},
          "execution_count": 9
        },
        {
          "output_type": "display_data",
          "data": {
            "text/plain": [
              "<Figure size 432x288 with 1 Axes>"
            ],
            "image/png": "[encoded data removed]"
          },
          "metadata": {
            "needs_background": "light"
          }
        }
      ]
    },
    {
      "cell_type": "code",
      "source": [
        "# create preprocessing as pipelines\n",
        "\n",
        "full_ppl = make_pipeline(SMOTENC(cat_map[1:], sampling_strategy = 0.3, random_state=seed), \n",
        "                           RandomUnderSampler(sampling_strategy=(0.3), random_state=seed),\n",
        "                           FeatureUnion(\n",
        "                               transformer_list=[\n",
        "                                   (\"numeric\", make_pipeline(\n",
        "                                       ColumnTransformer(transformers=[(\"selectNums\", 'passthrough', numeric_cols)], remainder='drop')\n",
        "                                   )),\n",
        "                                   (\"cat\", make_pipeline(\n",
        "                                       ColumnTransformer(transformers=[(\"selectNums\", 'passthrough', cat_cols)], remainder='drop'),\n",
        "                                       OneHotEncoder(handle_unknown='ignore')\n",
        "                                   ))\n",
        "                               ]\n",
        "                           ),\n",
        "                         lgb.LGBMClassifier(objective=\"binary\")\n",
        "                           )\n",
        "\n",
        "train_ppl = full_ppl.fit(X_train.iloc[:,1:], y_train)\n"
      ],
      "metadata": {
        "id": "hwCRkDgzW4Qj"
      },
      "execution_count": 35,
      "outputs": []
    },
    {
      "cell_type": "code",
      "source": [
        "y_pred_train_ppl = full_ppl.pred(y_train)\n",
        "\n",
        "print(accuracy_score(y_pred_train_ppl, y_train))\n",
        "print(balanced_accuracy_score(y_pred_train_ppl, y_train))\n",
        "print(classification_report(y_pred_train_ppl, y_train))"
      ],
      "metadata": {
        "id": "V-6Qltbakn0Y"
      },
      "execution_count": null,
      "outputs": []
    },
    {
      "cell_type": "code",
      "source": [
        "min_gain_to_split = [0, 10, 100, 1000]\n",
        "min_data_in_leaf = [10, 50, 100, 500, 1000]\n",
        "learning_rate = [0.01, 0.05, 0.1]\n",
        "n_estimators = [50, 100, 500, 1000]\n",
        "\n",
        "search_params = {'min_gain_to_split': min_gain_to_split,\n",
        "                 'min_data_in_leaf': min_data_in_leaf,\n",
        "                 'learning_rate': 0.1,\n",
        "                 'n_estimators': [1000]\n",
        "                 }\n",
        "\n",
        "gscv = GridSearchCV(clf, param_grid = {'n_estimators':n_estimators}, scoring ='balanced_accuracy', cv=5)\n",
        "\n",
        "stime = time.time()\n",
        "gscv.fit(X_train_encoded, y_train_bal)\n",
        "etime = time.time()\n",
        "\n",
        "print((etime-stime)/60)\n",
        "\n"
      ],
      "metadata": {
        "colab": {
          "base_uri": "https://localhost:8080/"
        },
        "id": "VoRXkLdU1qv5",
        "outputId": "c19f95d9-074d-46d3-b2f4-64f13ac97f7b"
      },
      "execution_count": null,
      "outputs": [
        {
          "output_type": "stream",
          "name": "stdout",
          "text": [
            "22.618293313185372\n"
          ]
        }
      ]
    },
    {
      "cell_type": "code",
      "source": [
        "gscv.cv_results_"
      ],
      "metadata": {
        "colab": {
          "base_uri": "https://localhost:8080/"
        },
        "id": "Rl7hbv5jFzjk",
        "outputId": "cc1c91b5-5885-4d88-914a-1366519db705"
      },
      "execution_count": null,
      "outputs": [
        {
          "output_type": "execute_result",
          "data": {
            "text/plain": [
              "{'mean_fit_time': array([ 12.1318224 ,  21.70390921,  69.19207845, 124.12920594]),\n",
              " 'std_fit_time': array([0.86172103, 1.94319898, 3.86500266, 8.39367486]),\n",
              " 'mean_score_time': array([0.65095401, 1.18097658, 3.81405215, 8.49755378]),\n",
              " 'std_score_time': array([0.03236702, 0.01605791, 0.35403982, 0.59581111]),\n",
              " 'param_n_estimators': masked_array(data=[50, 100, 500, 1000],\n",
              "              mask=[False, False, False, False],\n",
              "        fill_value='?',\n",
              "             dtype=object),\n",
              " 'params': [{'n_estimators': 50},\n",
              "  {'n_estimators': 100},\n",
              "  {'n_estimators': 500},\n",
              "  {'n_estimators': 1000}],\n",
              " 'split0_test_score': array([0.88510269, 0.89291552, 0.90057187, 0.90386434]),\n",
              " 'split1_test_score': array([0.95902728, 0.97311662, 0.98284697, 0.98701334]),\n",
              " 'split2_test_score': array([0.95715296, 0.97232572, 0.98258695, 0.98666303]),\n",
              " 'split3_test_score': array([0.9579571 , 0.97236785, 0.98287105, 0.98719271]),\n",
              " 'split4_test_score': array([0.95825685, 0.97305763, 0.98321052, 0.98718067]),\n",
              " 'mean_test_score': array([0.94349937, 0.95675667, 0.96641747, 0.97038282]),\n",
              " 'std_test_score': array([0.02920451, 0.0319223 , 0.0329234 , 0.03325979]),\n",
              " 'rank_test_score': array([4, 3, 2, 1], dtype=int32)}"
            ]
          },
          "metadata": {},
          "execution_count": 69
        }
      ]
    },
    {
      "cell_type": "code",
      "source": [
        "gscv = GridSearchCV(clf, param_grid = {'n_estimators': [1000],\n",
        "                 'learning_rate': learning_rate}, cv=5)\n",
        "\n",
        "stime = time.time()\n",
        "gscv.fit(X_train_encoded, y_train_bal)\n",
        "etime = time.time()\n",
        "\n",
        "print(f\"Time taken for run: {(etime-stime)/60} minutes\")\n"
      ],
      "metadata": {
        "colab": {
          "base_uri": "https://localhost:8080/"
        },
        "id": "2MYdB1-xKzfj",
        "outputId": "6287a23c-c3ed-486e-c15b-a14c2e67f67e"
      },
      "execution_count": null,
      "outputs": [
        {
          "output_type": "stream",
          "name": "stdout",
          "text": [
            "Time taken for run: 26.63393663962682 minutes\n"
          ]
        }
      ]
    },
    {
      "cell_type": "code",
      "source": [
        "gscv.cv_results_"
      ],
      "metadata": {
        "colab": {
          "base_uri": "https://localhost:8080/"
        },
        "id": "Hhumkle0MNGi",
        "outputId": "6c02945f-4e08-473d-9a98-384f75401175"
      },
      "execution_count": null,
      "outputs": [
        {
          "output_type": "execute_result",
          "data": {
            "text/plain": [
              "{'mean_fit_time': array([120.12087946,  82.73181086,  76.44032588]),\n",
              " 'std_fit_time': array([1.56597999, 6.25498259, 6.1738825 ]),\n",
              " 'mean_score_time': array([8.13162022, 7.56036029, 6.02699509]),\n",
              " 'std_score_time': array([0.10403089, 0.91574304, 0.5229034 ]),\n",
              " 'param_learning_rate': masked_array(data=[0.01, 0.05, 0.1],\n",
              "              mask=[False, False, False],\n",
              "        fill_value='?',\n",
              "             dtype=object),\n",
              " 'param_n_estimators': masked_array(data=[1000, 1000, 1000],\n",
              "              mask=[False, False, False],\n",
              "        fill_value='?',\n",
              "             dtype=object),\n",
              " 'params': [{'learning_rate': 0.01, 'n_estimators': 1000},\n",
              "  {'learning_rate': 0.05, 'n_estimators': 1000},\n",
              "  {'learning_rate': 0.1, 'n_estimators': 1000}],\n",
              " 'split0_test_score': array([0.93230609, 0.93513101, 0.93660768]),\n",
              " 'split1_test_score': array([0.98477589, 0.98930219, 0.99081096]),\n",
              " 'split2_test_score': array([0.9853215 , 0.98974351, 0.99097942]),\n",
              " 'split3_test_score': array([0.98403743, 0.98880453, 0.99017688]),\n",
              " 'split4_test_score': array([0.98500048, 0.98931816, 0.99077879]),\n",
              " 'mean_test_score': array([0.97428828, 0.97845988, 0.97987075]),\n",
              " 'std_test_score': array([0.02099535, 0.02166648, 0.02163324]),\n",
              " 'rank_test_score': array([3, 2, 1], dtype=int32)}"
            ]
          },
          "metadata": {},
          "execution_count": 41
        }
      ]
    },
    {
      "cell_type": "code",
      "source": [
        "gscv = GridSearchCV(clf, param_grid = {'n_estimators': [1000],\n",
        "                 'learning_rate': [0.1],\n",
        "                 'min_gain_to_split': min_gain_to_split,\n",
        "                 'min_data_in_leaf': min_data_in_leaf\n",
        "                 }, cv=5)\n",
        "\n",
        "stime = time.time()\n",
        "gscv.fit(X_train_encoded, y_train_bal)\n",
        "etime = time.time()\n",
        "\n",
        "print(f\"Time taken for run: {(etime-stime)/60} minutes\")\n"
      ],
      "metadata": {
        "colab": {
          "base_uri": "https://localhost:8080/"
        },
        "id": "shmFbCVi2w_0",
        "outputId": "d0f99d05-8cfb-430c-e46a-f7dee57a3da0"
      },
      "execution_count": null,
      "outputs": [
        {
          "output_type": "stream",
          "name": "stdout",
          "text": [
            "Time taken for run: 93.6096419095993 minutes\n"
          ]
        }
      ]
    },
    {
      "cell_type": "code",
      "source": [
        "gscv.cv_results_"
      ],
      "metadata": {
        "colab": {
          "base_uri": "https://localhost:8080/"
        },
        "id": "wRfRAiDy2-Tg",
        "outputId": "57322f64-273d-4632-ce72-e5bb9514ccc5"
      },
      "execution_count": null,
      "outputs": [
        {
          "output_type": "execute_result",
          "data": {
            "text/plain": [
              "{'mean_fit_time': array([79.19631662, 48.72630763, 43.089258  , 41.16731005, 74.8484066 ,\n",
              "        47.71693254, 43.32934203, 40.4573441 , 77.7280407 , 48.44288869,\n",
              "        43.48668666, 40.55918927, 82.37415504, 47.90828118, 43.48780985,\n",
              "        40.79981656, 84.91617632, 48.35427103, 43.42869458, 40.39659581]),\n",
              " 'std_fit_time': array([8.84196498, 1.66093191, 1.03041442, 1.29634828, 5.13331612,\n",
              "        0.95092191, 1.20437489, 0.89698341, 5.61146907, 1.61391586,\n",
              "        1.25575305, 0.90781958, 3.89883875, 1.08610126, 1.29811564,\n",
              "        1.05935765, 1.71380344, 1.15568842, 1.12151387, 0.91329074]),\n",
              " 'mean_score_time': array([5.99059453, 0.99576449, 0.55076785, 0.2819591 , 6.24039102,\n",
              "        1.00617037, 0.54631314, 0.27441287, 6.10236845, 1.00352702,\n",
              "        0.55804539, 0.27833533, 7.64620247, 1.07908244, 0.55124969,\n",
              "        0.27400417, 7.58145514, 1.05380235, 0.55179315, 0.27524486]),\n",
              " 'std_score_time': array([0.55681648, 0.07133026, 0.01153599, 0.00456411, 0.89812836,\n",
              "        0.06877822, 0.01365978, 0.0084579 , 0.53316251, 0.07968476,\n",
              "        0.03710207, 0.01048992, 0.80172731, 0.08527051, 0.0303835 ,\n",
              "        0.00237804, 0.15511583, 0.07428258, 0.03148522, 0.00580564]),\n",
              " 'param_learning_rate': masked_array(data=[0.1, 0.1, 0.1, 0.1, 0.1, 0.1, 0.1, 0.1, 0.1, 0.1, 0.1,\n",
              "                    0.1, 0.1, 0.1, 0.1, 0.1, 0.1, 0.1, 0.1, 0.1],\n",
              "              mask=[False, False, False, False, False, False, False, False,\n",
              "                    False, False, False, False, False, False, False, False,\n",
              "                    False, False, False, False],\n",
              "        fill_value='?',\n",
              "             dtype=object),\n",
              " 'param_min_data_in_leaf': masked_array(data=[10, 10, 10, 10, 50, 50, 50, 50, 100, 100, 100, 100,\n",
              "                    500, 500, 500, 500, 1000, 1000, 1000, 1000],\n",
              "              mask=[False, False, False, False, False, False, False, False,\n",
              "                    False, False, False, False, False, False, False, False,\n",
              "                    False, False, False, False],\n",
              "        fill_value='?',\n",
              "             dtype=object),\n",
              " 'param_min_gain_to_split': masked_array(data=[0, 10, 100, 1000, 0, 10, 100, 1000, 0, 10, 100, 1000,\n",
              "                    0, 10, 100, 1000, 0, 10, 100, 1000],\n",
              "              mask=[False, False, False, False, False, False, False, False,\n",
              "                    False, False, False, False, False, False, False, False,\n",
              "                    False, False, False, False],\n",
              "        fill_value='?',\n",
              "             dtype=object),\n",
              " 'param_n_estimators': masked_array(data=[1000, 1000, 1000, 1000, 1000, 1000, 1000, 1000, 1000,\n",
              "                    1000, 1000, 1000, 1000, 1000, 1000, 1000, 1000, 1000,\n",
              "                    1000, 1000],\n",
              "              mask=[False, False, False, False, False, False, False, False,\n",
              "                    False, False, False, False, False, False, False, False,\n",
              "                    False, False, False, False],\n",
              "        fill_value='?',\n",
              "             dtype=object),\n",
              " 'params': [{'learning_rate': 0.1,\n",
              "   'min_data_in_leaf': 10,\n",
              "   'min_gain_to_split': 0,\n",
              "   'n_estimators': 1000},\n",
              "  {'learning_rate': 0.1,\n",
              "   'min_data_in_leaf': 10,\n",
              "   'min_gain_to_split': 10,\n",
              "   'n_estimators': 1000},\n",
              "  {'learning_rate': 0.1,\n",
              "   'min_data_in_leaf': 10,\n",
              "   'min_gain_to_split': 100,\n",
              "   'n_estimators': 1000},\n",
              "  {'learning_rate': 0.1,\n",
              "   'min_data_in_leaf': 10,\n",
              "   'min_gain_to_split': 1000,\n",
              "   'n_estimators': 1000},\n",
              "  {'learning_rate': 0.1,\n",
              "   'min_data_in_leaf': 50,\n",
              "   'min_gain_to_split': 0,\n",
              "   'n_estimators': 1000},\n",
              "  {'learning_rate': 0.1,\n",
              "   'min_data_in_leaf': 50,\n",
              "   'min_gain_to_split': 10,\n",
              "   'n_estimators': 1000},\n",
              "  {'learning_rate': 0.1,\n",
              "   'min_data_in_leaf': 50,\n",
              "   'min_gain_to_split': 100,\n",
              "   'n_estimators': 1000},\n",
              "  {'learning_rate': 0.1,\n",
              "   'min_data_in_leaf': 50,\n",
              "   'min_gain_to_split': 1000,\n",
              "   'n_estimators': 1000},\n",
              "  {'learning_rate': 0.1,\n",
              "   'min_data_in_leaf': 100,\n",
              "   'min_gain_to_split': 0,\n",
              "   'n_estimators': 1000},\n",
              "  {'learning_rate': 0.1,\n",
              "   'min_data_in_leaf': 100,\n",
              "   'min_gain_to_split': 10,\n",
              "   'n_estimators': 1000},\n",
              "  {'learning_rate': 0.1,\n",
              "   'min_data_in_leaf': 100,\n",
              "   'min_gain_to_split': 100,\n",
              "   'n_estimators': 1000},\n",
              "  {'learning_rate': 0.1,\n",
              "   'min_data_in_leaf': 100,\n",
              "   'min_gain_to_split': 1000,\n",
              "   'n_estimators': 1000},\n",
              "  {'learning_rate': 0.1,\n",
              "   'min_data_in_leaf': 500,\n",
              "   'min_gain_to_split': 0,\n",
              "   'n_estimators': 1000},\n",
              "  {'learning_rate': 0.1,\n",
              "   'min_data_in_leaf': 500,\n",
              "   'min_gain_to_split': 10,\n",
              "   'n_estimators': 1000},\n",
              "  {'learning_rate': 0.1,\n",
              "   'min_data_in_leaf': 500,\n",
              "   'min_gain_to_split': 100,\n",
              "   'n_estimators': 1000},\n",
              "  {'learning_rate': 0.1,\n",
              "   'min_data_in_leaf': 500,\n",
              "   'min_gain_to_split': 1000,\n",
              "   'n_estimators': 1000},\n",
              "  {'learning_rate': 0.1,\n",
              "   'min_data_in_leaf': 1000,\n",
              "   'min_gain_to_split': 0,\n",
              "   'n_estimators': 1000},\n",
              "  {'learning_rate': 0.1,\n",
              "   'min_data_in_leaf': 1000,\n",
              "   'min_gain_to_split': 10,\n",
              "   'n_estimators': 1000},\n",
              "  {'learning_rate': 0.1,\n",
              "   'min_data_in_leaf': 1000,\n",
              "   'min_gain_to_split': 100,\n",
              "   'n_estimators': 1000},\n",
              "  {'learning_rate': 0.1,\n",
              "   'min_data_in_leaf': 1000,\n",
              "   'min_gain_to_split': 1000,\n",
              "   'n_estimators': 1000}],\n",
              " 'split0_test_score': array([0.93643112, 0.93308455, 0.9302837 , 0.92103848, 0.93643915,\n",
              "        0.93314072, 0.9302837 , 0.92103848, 0.93641507, 0.93289194,\n",
              "        0.93050841, 0.92103848, 0.93653545, 0.93297219, 0.93026765,\n",
              "        0.92103848, 0.93646322, 0.93297219, 0.92999478, 0.92177681]),\n",
              " 'split1_test_score': array([0.98974359, 0.98589944, 0.97943903, 0.96140604, 0.99092332,\n",
              "        0.98590747, 0.97943903, 0.96140604, 0.99118013, 0.98591549,\n",
              "        0.97997673, 0.96140604, 0.99150114, 0.98579511, 0.9793668 ,\n",
              "        0.96140604, 0.99127643, 0.98561053, 0.97951928, 0.96100478]),\n",
              " 'split2_test_score': array([0.98979969, 0.98625245, 0.98054637, 0.96258547, 0.99152515,\n",
              "        0.98644506, 0.98054637, 0.96258547, 0.99146095, 0.98640493,\n",
              "        0.98037784, 0.96258547, 0.99153318, 0.98651729, 0.97995249,\n",
              "        0.96258547, 0.99167763, 0.98630863, 0.98008892, 0.96258547]),\n",
              " 'split3_test_score': array([0.98931013, 0.98511284, 0.97878078, 0.96220828, 0.99054605,\n",
              "        0.98489615, 0.9787888 , 0.96220828, 0.99093127, 0.98530545,\n",
              "        0.97850791, 0.96220828, 0.99105165, 0.98524927, 0.97849186,\n",
              "        0.96246509, 0.99099547, 0.98518507, 0.97847581, 0.96077172]),\n",
              " 'split4_test_score': array([0.98943854, 0.98597958, 0.97959937, 0.96283426, 0.9910356 ,\n",
              "        0.98592341, 0.97959937, 0.96283426, 0.9910356 , 0.98569067,\n",
              "        0.97959937, 0.96283426, 0.99118808, 0.9858592 , 0.97904562,\n",
              "        0.96201567, 0.99125229, 0.98565857, 0.97937466, 0.96251324]),\n",
              " 'mean_test_score': array([0.97894461, 0.97526577, 0.96972985, 0.95401451, 0.98009385,\n",
              "        0.97526256, 0.96973145, 0.95401451, 0.9802046 , 0.9752417 ,\n",
              "        0.96979405, 0.95401451, 0.9803619 , 0.97527861, 0.96942488,\n",
              "        0.95390215, 0.98033301, 0.975147  , 0.96949069, 0.95373041]),\n",
              " 'std_test_score': array([0.02125753, 0.02109402, 0.01973115, 0.01649509, 0.02182959,\n",
              "        0.0210669 , 0.01973188, 0.01649509, 0.02189549, 0.02117786,\n",
              "        0.01965269, 0.01649509, 0.02191399, 0.02115704, 0.01958433,\n",
              "        0.01643704, 0.02193598, 0.02109046, 0.01975473, 0.01599424]),\n",
              " 'rank_test_score': array([ 5,  7, 13, 16,  4,  8, 12, 16,  3,  9, 11, 16,  1,  6, 15, 19,  2,\n",
              "        10, 14, 20], dtype=int32)}"
            ]
          },
          "metadata": {},
          "execution_count": 43
        }
      ]
    },
    {
      "cell_type": "code",
      "source": [
        "clf_2 = lgb.LGBMClassifier(objective=\"binary\", learning_rate = 0.1, min_gain_to_split=0, min_data_in_leaf = 50, n_estimators = 1000 )\n",
        "clf_2.fit(X_train_encoded, y_train_bal)\n",
        "y_pred_train_2 = clf_2.predict(X_train_encoded)\n",
        "\n",
        "print(accuracy_score(y_pred_train_2, y_train_bal))\n",
        "print(balanced_accuracy_score(y_pred_train_2, y_train_bal))\n",
        "print(classification_report(y_pred_train_2, y_train_bal))"
      ],
      "metadata": {
        "colab": {
          "base_uri": "https://localhost:8080/"
        },
        "id": "Ddf-38OVajm6",
        "outputId": "aa8d2a1a-873f-4a57-a851-fbf4ad949e31"
      },
      "execution_count": null,
      "outputs": [
        {
          "output_type": "stream",
          "name": "stdout",
          "text": [
            "0.9873359207219007\n",
            "0.9878550477435298\n",
            "              precision    recall  f1-score   support\n",
            "\n",
            "           0       1.00      0.99      0.99    524839\n",
            "           1       0.93      0.99      0.96     98183\n",
            "\n",
            "    accuracy                           0.99    623022\n",
            "   macro avg       0.97      0.99      0.98    623022\n",
            "weighted avg       0.99      0.99      0.99    623022\n",
            "\n"
          ]
        }
      ]
    },
    {
      "cell_type": "markdown",
      "source": [
        "Test Data"
      ],
      "metadata": {
        "id": "ZC9ZrJ_Ev6GY"
      }
    },
    {
      "cell_type": "code",
      "source": [
        "# preprocess test data \n",
        "df_test_cat = X_test[cat_cols]\n",
        "df_test_cat_encoded = pd.DataFrame(onehotenc.transform(df_test_cat).toarray())\n",
        "X_test_numeric = X_test[numeric_cols].reset_index(drop=True)\n",
        "X_test_encoded = pd.concat([X_test_numeric, df_test_cat_encoded], axis=1)\n",
        "\n",
        "y_test_pred = clf.predict(X_test_encoded)\n",
        "y_test_pred_2 = clf_2.predict(X_test_encoded)\n",
        "\n",
        "print(accuracy_score(y_test_pred, y_test))\n",
        "print(balanced_accuracy_score(y_test_pred, y_test))\n",
        "print(classification_report(y_test_pred, y_test))\n",
        "\n",
        "print(accuracy_score(y_test_pred_2, y_test))\n",
        "print(balanced_accuracy_score(y_test_pred_2, y_test))\n",
        "print(classification_report(y_test_pred_2, y_test))"
      ],
      "metadata": {
        "colab": {
          "base_uri": "https://localhost:8080/"
        },
        "id": "jJmdv2HBvTT7",
        "outputId": "5f583f26-24f7-4da1-8315-724ea6d6bab0"
      },
      "execution_count": null,
      "outputs": [
        {
          "output_type": "stream",
          "name": "stdout",
          "text": [
            "0.9841633333333333\n",
            "0.5891332698030164\n",
            "              precision    recall  f1-score   support\n",
            "\n",
            "           0       0.99      0.99      0.99    297641\n",
            "           1       0.14      0.19      0.16      2359\n",
            "\n",
            "    accuracy                           0.98    300000\n",
            "   macro avg       0.56      0.59      0.57    300000\n",
            "weighted avg       0.99      0.98      0.99    300000\n",
            "\n",
            "0.9857433333333333\n",
            "0.6038068325436253\n",
            "              precision    recall  f1-score   support\n",
            "\n",
            "           0       1.00      0.99      0.99    298233\n",
            "           1       0.12      0.22      0.15      1767\n",
            "\n",
            "    accuracy                           0.99    300000\n",
            "   macro avg       0.56      0.60      0.57    300000\n",
            "weighted avg       0.99      0.99      0.99    300000\n",
            "\n"
          ]
        }
      ]
    },
    {
      "cell_type": "code",
      "source": [
        "fpr, tpr, thresholds = roc_curve(y_test_pred_2, y_test)\n",
        "RocCurveDisplay(fpr=fpr, tpr=tpr, estimator_name='Training Eval').plot()"
      ],
      "metadata": {
        "colab": {
          "base_uri": "https://localhost:8080/",
          "height": 297
        },
        "id": "4ZWbJvhDq4TX",
        "outputId": "64373ab9-1625-403a-901e-61ddf2967a93"
      },
      "execution_count": null,
      "outputs": [
        {
          "output_type": "execute_result",
          "data": {
            "text/plain": [
              "<sklearn.metrics._plot.roc_curve.RocCurveDisplay at 0x7f9f7190de20>"
            ]
          },
          "metadata": {},
          "execution_count": 51
        },
        {
          "output_type": "display_data",
          "data": {
            "text/plain": [
              "<Figure size 432x288 with 1 Axes>"
            ],
            "image/png": "[encoded data removed]"
          },
          "metadata": {
            "needs_background": "light"
          }
        }
      ]
    },
    {
      "cell_type": "code",
      "source": [],
      "metadata": {
        "id": "M2imHRwf464W"
      },
      "execution_count": null,
      "outputs": []
    },
    {
      "cell_type": "code",
      "source": [
        "np.unique(y_pred)\n",
        "np.unique(y_test)"
      ],
      "metadata": {
        "colab": {
          "base_uri": "https://localhost:8080/"
        },
        "id": "wwudQAMTHeEX",
        "outputId": "a65c39bf-f4fe-476d-8043-f101d29f41f7"
      },
      "execution_count": null,
      "outputs": [
        {
          "output_type": "execute_result",
          "data": {
            "text/plain": [
              "array([0, 1])"
            ]
          },
          "metadata": {},
          "execution_count": 31
        }
      ]
    },
    {
      "cell_type": "code",
      "source": [
        "\n",
        "\n",
        "fpr, tpr, thresholds = roc_curve(y_test, y_pred)\n",
        "\n",
        "def plot_roc_cur(fper, tper):  \n",
        "    plt.plot(fper, tper, color='orange', label='ROC')\n",
        "    plt.plot([0, 1], [0, 1], color='darkblue', linestyle='--')\n",
        "    plt.xlabel('False Positive Rate')\n",
        "    plt.ylabel('True Positive Rate')\n",
        "    plt.title('Receiver Operating Characteristic (ROC) Curve')\n",
        "    plt.legend()\n",
        "    plt.show()\n",
        "\n",
        "plot_roc_cur(fpr, tpr)"
      ],
      "metadata": {
        "colab": {
          "base_uri": "https://localhost:8080/",
          "height": 295
        },
        "id": "aRo_ie9cBwl7",
        "outputId": "0fe91af4-c853-4c35-f44c-e4d9c64163c3"
      },
      "execution_count": null,
      "outputs": [
        {
          "output_type": "display_data",
          "data": {
            "text/plain": [
              "<Figure size 432x288 with 1 Axes>"
            ],
            "image/png": "[encoded data removed]"
          },
          "metadata": {
            "needs_background": "light"
          }
        }
      ]
    },
    {
      "cell_type": "code",
      "source": [
        "from sklearn.metrics import RocCurveDisplay \n",
        "RocCurveDisplay(fpr=fpr, tpr=tpr, estimator_name='example estimator').plot()"
      ],
      "metadata": {
        "colab": {
          "base_uri": "https://localhost:8080/",
          "height": 297
        },
        "id": "QCQaQjyL6KEB",
        "outputId": "91db0e5a-930e-47ad-9ad7-1dbb1a4c3836"
      },
      "execution_count": null,
      "outputs": [
        {
          "output_type": "execute_result",
          "data": {
            "text/plain": [
              "<sklearn.metrics._plot.roc_curve.RocCurveDisplay at 0x7fd0a5c9a400>"
            ]
          },
          "metadata": {},
          "execution_count": 22
        },
        {
          "output_type": "display_data",
          "data": {
            "text/plain": [
              "<Figure size 432x288 with 1 Axes>"
            ],
            "image/png": "[encoded data removed]"
          },
          "metadata": {
            "needs_background": "light"
          }
        }
      ]
    },
    {
      "cell_type": "code",
      "source": [
        "df_cat.iloc[:5,]"
      ],
      "metadata": {
        "colab": {
          "base_uri": "https://localhost:8080/",
          "height": 206
        },
        "id": "2Fn2YmdA6JfH",
        "outputId": "3f37cc62-6691-4c3b-8219-02826b9bb462"
      },
      "execution_count": null,
      "outputs": [
        {
          "output_type": "execute_result",
          "data": {
            "text/plain": [
              "  payment_type employment_status housing_status    source  device_os\n",
              "0           AA                CA             BA  INTERNET    windows\n",
              "1           AB                CA             BA  INTERNET    windows\n",
              "2           AC                CB             BA  INTERNET      other\n",
              "3           AB                CA             BA  INTERNET      linux\n",
              "4           AB                CA             BA  INTERNET  macintosh"
            ],
            "text/html": [
              "\n",
              "  <div id=\"df-4715fe91-bdc9-46b1-bf3c-25999e63aa60\">\n",
              "    <div class=\"colab-df-container\">\n",
              "      <div>\n",
              "<style scoped>\n",
              "    .dataframe tbody tr th:only-of-type {\n",
              "        vertical-align: middle;\n",
              "    }\n",
              "\n",
              "    .dataframe tbody tr th {\n",
              "        vertical-align: top;\n",
              "    }\n",
              "\n",
              "    .dataframe thead th {\n",
              "        text-align: right;\n",
              "    }\n",
              "</style>\n",
              "<table border=\"1\" class=\"dataframe\">\n",
              "  <thead>\n",
              "    <tr style=\"text-align: right;\">\n",
              "      <th></th>\n",
              "      <th>payment_type</th>\n",
              "      <th>employment_status</th>\n",
              "      <th>housing_status</th>\n",
              "      <th>source</th>\n",
              "      <th>device_os</th>\n",
              "    </tr>\n",
              "  </thead>\n",
              "  <tbody>\n",
              "    <tr>\n",
              "      <th>0</th>\n",
              "      <td>AA</td>\n",
              "      <td>CA</td>\n",
              "      <td>BA</td>\n",
              "      <td>INTERNET</td>\n",
              "      <td>windows</td>\n",
              "    </tr>\n",
              "    <tr>\n",
              "      <th>1</th>\n",
              "      <td>AB</td>\n",
              "      <td>CA</td>\n",
              "      <td>BA</td>\n",
              "      <td>INTERNET</td>\n",
              "      <td>windows</td>\n",
              "    </tr>\n",
              "    <tr>\n",
              "      <th>2</th>\n",
              "      <td>AC</td>\n",
              "      <td>CB</td>\n",
              "      <td>BA</td>\n",
              "      <td>INTERNET</td>\n",
              "      <td>other</td>\n",
              "    </tr>\n",
              "    <tr>\n",
              "      <th>3</th>\n",
              "      <td>AB</td>\n",
              "      <td>CA</td>\n",
              "      <td>BA</td>\n",
              "      <td>INTERNET</td>\n",
              "      <td>linux</td>\n",
              "    </tr>\n",
              "    <tr>\n",
              "      <th>4</th>\n",
              "      <td>AB</td>\n",
              "      <td>CA</td>\n",
              "      <td>BA</td>\n",
              "      <td>INTERNET</td>\n",
              "      <td>macintosh</td>\n",
              "    </tr>\n",
              "  </tbody>\n",
              "</table>\n",
              "</div>\n",
              "      <button class=\"colab-df-convert\" onclick=\"convertToInteractive('df-4715fe91-bdc9-46b1-bf3c-25999e63aa60')\"\n",
              "              title=\"Convert this dataframe to an interactive table.\"\n",
              "              style=\"display:none;\">\n",
              "        \n",
              "  <svg xmlns=\"http://www.w3.org/2000/svg\" height=\"24px\"viewBox=\"0 0 24 24\"\n",
              "       width=\"24px\">\n",
              "    <path d=\"M0 0h24v24H0V0z\" fill=\"none\"/>\n",
              "    <path d=\"M18.56 5.44l.94 2.06.94-2.06 2.06-.94-2.06-.94-.94-2.06-.94 2.06-2.06.94zm-11 1L8.5 8.5l.94-2.06 2.06-.94-2.06-.94L8.5 2.5l-.94 2.06-2.06.94zm10 10l.94 2.06.94-2.06 2.06-.94-2.06-.94-.94-2.06-.94 2.06-2.06.94z\"/><path d=\"M17.41 7.96l-1.37-1.37c-.4-.4-.92-.59-1.43-.59-.52 0-1.04.2-1.43.59L10.3 9.45l-7.72 7.72c-.78.78-.78 2.05 0 2.83L4 21.41c.39.39.9.59 1.41.59.51 0 1.02-.2 1.41-.59l7.78-7.78 2.81-2.81c.8-.78.8-2.07 0-2.86zM5.41 20L4 18.59l7.72-7.72 1.47 1.35L5.41 20z\"/>\n",
              "  </svg>\n",
              "      </button>\n",
              "      \n",
              "  <style>\n",
              "    .colab-df-container {\n",
              "      display:flex;\n",
              "      flex-wrap:wrap;\n",
              "      gap: 12px;\n",
              "    }\n",
              "\n",
              "    .colab-df-convert {\n",
              "      background-color: #E8F0FE;\n",
              "      border: none;\n",
              "      border-radius: 50%;\n",
              "      cursor: pointer;\n",
              "      display: none;\n",
              "      fill: #1967D2;\n",
              "      height: 32px;\n",
              "      padding: 0 0 0 0;\n",
              "      width: 32px;\n",
              "    }\n",
              "\n",
              "    .colab-df-convert:hover {\n",
              "      background-color: #E2EBFA;\n",
              "      box-shadow: 0px 1px 2px rgba(60, 64, 67, 0.3), 0px 1px 3px 1px rgba(60, 64, 67, 0.15);\n",
              "      fill: #174EA6;\n",
              "    }\n",
              "\n",
              "    [theme=dark] .colab-df-convert {\n",
              "      background-color: #3B4455;\n",
              "      fill: #D2E3FC;\n",
              "    }\n",
              "\n",
              "    [theme=dark] .colab-df-convert:hover {\n",
              "      background-color: #434B5C;\n",
              "      box-shadow: 0px 1px 3px 1px rgba(0, 0, 0, 0.15);\n",
              "      filter: drop-shadow(0px 1px 2px rgba(0, 0, 0, 0.3));\n",
              "      fill: #FFFFFF;\n",
              "    }\n",
              "  </style>\n",
              "\n",
              "      <script>\n",
              "        const buttonEl =\n",
              "          document.querySelector('#df-4715fe91-bdc9-46b1-bf3c-25999e63aa60 button.colab-df-convert');\n",
              "        buttonEl.style.display =\n",
              "          google.colab.kernel.accessAllowed ? 'block' : 'none';\n",
              "\n",
              "        async function convertToInteractive(key) {\n",
              "          const element = document.querySelector('#df-4715fe91-bdc9-46b1-bf3c-25999e63aa60');\n",
              "          const dataTable =\n",
              "            await google.colab.kernel.invokeFunction('convertToInteractive',\n",
              "                                                     [key], {});\n",
              "          if (!dataTable) return;\n",
              "\n",
              "          const docLinkHtml = 'Like what you see? Visit the ' +\n",
              "            '<a target=\"_blank\" href=https://colab.research.google.com/notebooks/data_table.ipynb>data table notebook</a>'\n",
              "            + ' to learn more about interactive tables.';\n",
              "          element.innerHTML = '';\n",
              "          dataTable['output_type'] = 'display_data';\n",
              "          await google.colab.output.renderOutput(dataTable, element);\n",
              "          const docLink = document.createElement('div');\n",
              "          docLink.innerHTML = docLinkHtml;\n",
              "          element.appendChild(docLink);\n",
              "        }\n",
              "      </script>\n",
              "    </div>\n",
              "  </div>\n",
              "  "
            ]
          },
          "metadata": {},
          "execution_count": 86
        }
      ]
    }
  ]
}